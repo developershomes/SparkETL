{
 "cells": [
  {
   "cell_type": "code",
   "execution_count": 1,
   "id": "b139ba1c-52b5-4bdd-96b7-309a78d30421",
   "metadata": {},
   "outputs": [],
   "source": [
    "# First Load all the required library and also Start Spark Session\n",
    "# Load all the required library\n",
    "from pyspark.sql import SparkSession"
   ]
  },
  {
   "cell_type": "code",
   "execution_count": 2,
   "id": "2e81bfed-7faa-4615-91a0-0761bd2e827a",
   "metadata": {},
   "outputs": [
    {
     "name": "stderr",
     "output_type": "stream",
     "text": [
      "WARNING: An illegal reflective access operation has occurred\n",
      "WARNING: Illegal reflective access by org.apache.spark.unsafe.Platform (file:/opt/spark/jars/spark-unsafe_2.12-3.2.1.jar) to constructor java.nio.DirectByteBuffer(long,int)\n",
      "WARNING: Please consider reporting this to the maintainers of org.apache.spark.unsafe.Platform\n",
      "WARNING: Use --illegal-access=warn to enable warnings of further illegal reflective access operations\n",
      "WARNING: All illegal access operations will be denied in a future release\n"
     ]
    },
    {
     "name": "stdout",
     "output_type": "stream",
     "text": [
      ":: loading settings :: url = jar:file:/opt/spark/jars/ivy-2.5.0.jar!/org/apache/ivy/core/settings/ivysettings.xml\n"
     ]
    },
    {
     "name": "stderr",
     "output_type": "stream",
     "text": [
      "Ivy Default Cache set to: /root/.ivy2/cache\n",
      "The jars for the packages stored in: /root/.ivy2/jars\n",
      "org.apache.spark#spark-sql-kafka-0-10_2.12 added as a dependency\n",
      "mysql#mysql-connector-java added as a dependency\n",
      ":: resolving dependencies :: org.apache.spark#spark-submit-parent-493c4a9c-0316-4f83-965c-fea5e02a6e4d;1.0\n",
      "\tconfs: [default]\n",
      "\tfound org.apache.spark#spark-sql-kafka-0-10_2.12;3.2.0 in central\n",
      "\tfound org.apache.spark#spark-token-provider-kafka-0-10_2.12;3.2.0 in central\n",
      "\tfound org.apache.kafka#kafka-clients;2.8.0 in central\n",
      "\tfound org.lz4#lz4-java;1.7.1 in central\n",
      "\tfound org.xerial.snappy#snappy-java;1.1.8.4 in central\n",
      "\tfound org.slf4j#slf4j-api;1.7.30 in central\n",
      "\tfound org.apache.hadoop#hadoop-client-runtime;3.3.1 in central\n",
      "\tfound org.spark-project.spark#unused;1.0.0 in central\n",
      "\tfound org.apache.hadoop#hadoop-client-api;3.3.1 in central\n",
      "\tfound org.apache.htrace#htrace-core4;4.1.0-incubating in central\n",
      "\tfound commons-logging#commons-logging;1.1.3 in central\n",
      "\tfound com.google.code.findbugs#jsr305;3.0.0 in central\n",
      "\tfound org.apache.commons#commons-pool2;2.6.2 in central\n",
      "\tfound mysql#mysql-connector-java;8.0.32 in central\n",
      "\tfound com.mysql#mysql-connector-j;8.0.32 in central\n",
      "\tfound com.google.protobuf#protobuf-java;3.21.9 in central\n",
      ":: resolution report :: resolve 1765ms :: artifacts dl 19ms\n",
      "\t:: modules in use:\n",
      "\tcom.google.code.findbugs#jsr305;3.0.0 from central in [default]\n",
      "\tcom.google.protobuf#protobuf-java;3.21.9 from central in [default]\n",
      "\tcom.mysql#mysql-connector-j;8.0.32 from central in [default]\n",
      "\tcommons-logging#commons-logging;1.1.3 from central in [default]\n",
      "\tmysql#mysql-connector-java;8.0.32 from central in [default]\n",
      "\torg.apache.commons#commons-pool2;2.6.2 from central in [default]\n",
      "\torg.apache.hadoop#hadoop-client-api;3.3.1 from central in [default]\n",
      "\torg.apache.hadoop#hadoop-client-runtime;3.3.1 from central in [default]\n",
      "\torg.apache.htrace#htrace-core4;4.1.0-incubating from central in [default]\n",
      "\torg.apache.kafka#kafka-clients;2.8.0 from central in [default]\n",
      "\torg.apache.spark#spark-sql-kafka-0-10_2.12;3.2.0 from central in [default]\n",
      "\torg.apache.spark#spark-token-provider-kafka-0-10_2.12;3.2.0 from central in [default]\n",
      "\torg.lz4#lz4-java;1.7.1 from central in [default]\n",
      "\torg.slf4j#slf4j-api;1.7.30 from central in [default]\n",
      "\torg.spark-project.spark#unused;1.0.0 from central in [default]\n",
      "\torg.xerial.snappy#snappy-java;1.1.8.4 from central in [default]\n",
      "\t---------------------------------------------------------------------\n",
      "\t|                  |            modules            ||   artifacts   |\n",
      "\t|       conf       | number| search|dwnlded|evicted|| number|dwnlded|\n",
      "\t---------------------------------------------------------------------\n",
      "\t|      default     |   16  |   0   |   0   |   0   ||   15  |   0   |\n",
      "\t---------------------------------------------------------------------\n",
      ":: retrieving :: org.apache.spark#spark-submit-parent-493c4a9c-0316-4f83-965c-fea5e02a6e4d\n",
      "\tconfs: [default]\n",
      "\t0 artifacts copied, 15 already retrieved (0kB/16ms)\n",
      "23/08/01 11:21:59 WARN NativeCodeLoader: Unable to load native-hadoop library for your platform... using builtin-java classes where applicable\n",
      "Using Spark's default log4j profile: org/apache/spark/log4j-defaults.properties\n",
      "Setting default log level to \"WARN\".\n",
      "To adjust logging level use sc.setLogLevel(newLevel). For SparkR, use setLogLevel(newLevel).\n"
     ]
    }
   ],
   "source": [
    "#Start Spark Session\n",
    "spark = SparkSession.builder.appName(\"chapter12\") \\\n",
    "        .config(\"spark.jars.packages\", \"org.apache.spark:spark-sql-kafka-0-10_2.12:3.2.0,mysql:mysql-connector-java:8.0.32\")  \\\n",
    "        .getOrCreate()\n",
    "sqlContext = SparkSession(spark)\n",
    "#Dont Show warning only error\n",
    "spark.sparkContext.setLogLevel(\"WARN\")"
   ]
  },
  {
   "cell_type": "code",
   "execution_count": 3,
   "id": "8f9e8602-6b59-4ef7-ad2a-e4139dddd454",
   "metadata": {},
   "outputs": [
    {
     "data": {
      "text/html": [
       "\n",
       "            <div>\n",
       "                <p><b>SparkSession - in-memory</b></p>\n",
       "                \n",
       "        <div>\n",
       "            <p><b>SparkContext</b></p>\n",
       "\n",
       "            <p><a href=\"http://1c3b21b96bb8:4040\">Spark UI</a></p>\n",
       "\n",
       "            <dl>\n",
       "              <dt>Version</dt>\n",
       "                <dd><code>v3.2.1</code></dd>\n",
       "              <dt>Master</dt>\n",
       "                <dd><code>local[*]</code></dd>\n",
       "              <dt>AppName</dt>\n",
       "                <dd><code>chapter12</code></dd>\n",
       "            </dl>\n",
       "        </div>\n",
       "        \n",
       "            </div>\n",
       "        "
      ],
      "text/plain": [
       "<pyspark.sql.session.SparkSession at 0x7fd7ec125070>"
      ]
     },
     "execution_count": 3,
     "metadata": {},
     "output_type": "execute_result"
    }
   ],
   "source": [
    "spark"
   ]
  },
  {
   "cell_type": "code",
   "execution_count": 4,
   "id": "38a809e9-d284-4ead-a441-a95fbe0fa9f0",
   "metadata": {},
   "outputs": [],
   "source": [
    "KAFKA_BOOTSTRAP_SERVERS = \"192.168.1.102:9092\"\n",
    "KAFKA_TOPIC = \"News_XYZ_Technology\""
   ]
  },
  {
   "cell_type": "code",
   "execution_count": 5,
   "id": "adac4438-f229-4831-9ba0-fb987d232b07",
   "metadata": {},
   "outputs": [],
   "source": [
    "df = spark.readStream.format(\"kafka\") \\\n",
    "    .option(\"kafka.bootstrap.servers\", KAFKA_BOOTSTRAP_SERVERS) \\\n",
    "    .option(\"subscribe\", KAFKA_TOPIC) \\\n",
    "    .option(\"startingOffsets\", \"earliest\") \\\n",
    "    .load()"
   ]
  },
  {
   "cell_type": "code",
   "execution_count": 7,
   "id": "e6adc8ee-7126-4247-8f77-8798a6f59edd",
   "metadata": {},
   "outputs": [
    {
     "name": "stderr",
     "output_type": "stream",
     "text": [
      "23/08/01 11:22:36 WARN ResolveWriteToStream: Temporary checkpoint location created which is deleted normally when the query didn't fail: /tmp/temporary-aa2ef7ab-e536-4b1b-aa4f-3f260d4e8f09. If it's required to delete it under any circumstances, please set spark.sql.streaming.forceDeleteTempCheckpointLocation to true. Important to know deleting temp checkpoint folder is best effort.\n",
      "23/08/01 11:22:36 WARN ResolveWriteToStream: spark.sql.adaptive.enabled is not supported in streaming DataFrames/Datasets and will be disabled.\n"
     ]
    },
    {
     "data": {
      "text/plain": [
       "<pyspark.sql.streaming.StreamingQuery at 0x7fd7ec125040>"
      ]
     },
     "execution_count": 7,
     "metadata": {},
     "output_type": "execute_result"
    }
   ],
   "source": [
    "df \\\n",
    "    .writeStream \\\n",
    "    .format(\"console\") \\\n",
    "    .outputMode(\"append\") \\\n",
    "    .start() "
   ]
  },
  {
   "cell_type": "code",
   "execution_count": 8,
   "id": "70853b26-9f33-44b4-90df-af3152ea9a3c",
   "metadata": {},
   "outputs": [
    {
     "name": "stderr",
     "output_type": "stream",
     "text": [
      "23/08/01 11:22:43 WARN ResolveWriteToStream: Temporary checkpoint location created which is deleted normally when the query didn't fail: /tmp/temporary-18deab41-0527-4d6e-8238-9cd5ccf2bfdf. If it's required to delete it under any circumstances, please set spark.sql.streaming.forceDeleteTempCheckpointLocation to true. Important to know deleting temp checkpoint folder is best effort.\n",
      "23/08/01 11:22:43 WARN ResolveWriteToStream: spark.sql.adaptive.enabled is not supported in streaming DataFrames/Datasets and will be disabled.\n"
     ]
    },
    {
     "data": {
      "text/plain": [
       "<pyspark.sql.streaming.StreamingQuery at 0x7fd7ec125400>"
      ]
     },
     "execution_count": 8,
     "metadata": {},
     "output_type": "execute_result"
    },
    {
     "name": "stderr",
     "output_type": "stream",
     "text": [
      "                                                                                \r"
     ]
    },
    {
     "name": "stdout",
     "output_type": "stream",
     "text": [
      "-------------------------------------------\n",
      "Batch: 0\n",
      "-------------------------------------------\n",
      "+----+--------------------+-------------------+---------+------+--------------------+-------------+\n",
      "| key|               value|              topic|partition|offset|           timestamp|timestampType|\n",
      "+----+--------------------+-------------------+---------+------+--------------------+-------------+\n",
      "|null| [53 70 61 72 6B 20]|News_XYZ_Technology|        0|     0|2023-07-30 01:20:...|            0|\n",
      "|null|[4C 61 6B 65 68 6...|News_XYZ_Technology|        0|     1|2023-07-30 01:20:...|            0|\n",
      "|null|[44 65 6C 74 61 2...|News_XYZ_Technology|        0|     2|2023-07-30 01:20:...|            0|\n",
      "|null| [4F 70 65 6E 41 49]|News_XYZ_Technology|        0|     3|2023-07-30 01:20:...|            0|\n",
      "|null|[44 6F 6C 6C 79 2...|News_XYZ_Technology|        0|     4|2023-07-30 01:21:...|            0|\n",
      "|null|[44 61 74 61 62 7...|News_XYZ_Technology|        0|     5|2023-07-30 01:21:...|            0|\n",
      "|null|[4D 69 63 72 6F 7...|News_XYZ_Technology|        0|     6|2023-07-30 01:21:...|            0|\n",
      "|null|[41 7A 75 72 65 2...|News_XYZ_Technology|        0|     7|2023-07-30 01:21:...|            0|\n",
      "|null|[41 57 53 20 4B 6...|News_XYZ_Technology|        0|     8|2023-07-30 01:21:...|            0|\n",
      "|null|[44 65 6C 74 61 2...|News_XYZ_Technology|        0|     9|2023-07-30 03:23:...|            0|\n",
      "|null|[41 70 61 63 68 6...|News_XYZ_Technology|        0|    10|2023-07-30 04:13:...|            0|\n",
      "|null| [41 70 61 63 68 65]|News_XYZ_Technology|        0|    11|2023-07-30 04:14:...|            0|\n",
      "|null|[69 63 65 62 65 7...|News_XYZ_Technology|        0|    12|2023-07-30 04:15:...|            0|\n",
      "|null|       [68 75 64 69]|News_XYZ_Technology|        0|    13|2023-07-30 04:15:...|            0|\n",
      "|null|    [64 65 6C 74 61]|News_XYZ_Technology|        0|    14|2023-07-30 04:15:...|            0|\n",
      "|null| [66 61 62 72 69 63]|News_XYZ_Technology|        0|    15|2023-07-30 04:15:...|            0|\n",
      "|null|    [64 65 6C 74 61]|News_XYZ_Technology|        0|    16|2023-07-30 04:15:...|            0|\n",
      "|null|[41 70 61 63 68 6...|News_XYZ_Technology|        0|    17|2023-07-30 05:16:...|            0|\n",
      "|null|[41 70 61 63 68 6...|News_XYZ_Technology|        0|    18|2023-07-30 05:16:...|            0|\n",
      "|null|[41 7A 75 72 65 2...|News_XYZ_Technology|        0|    19|2023-07-30 05:40:...|            0|\n",
      "+----+--------------------+-------------------+---------+------+--------------------+-------------+\n",
      "only showing top 20 rows\n",
      "\n"
     ]
    },
    {
     "name": "stderr",
     "output_type": "stream",
     "text": [
      "                                                                                \r"
     ]
    },
    {
     "name": "stdout",
     "output_type": "stream",
     "text": [
      "-------------------------------------------\n",
      "Batch: 0\n",
      "-------------------------------------------\n",
      "+-----------------+\n",
      "|            value|\n",
      "+-----------------+\n",
      "|           Spark |\n",
      "|        Lakehouse|\n",
      "|       Delta Lake|\n",
      "|           OpenAI|\n",
      "|      Dolly Model|\n",
      "|Databrics Events |\n",
      "| Microsoft Fabric|\n",
      "|         Azure DW|\n",
      "|      AWS Kinesis|\n",
      "|       Delta Lake|\n",
      "|      Apache HUdi|\n",
      "|           Apache|\n",
      "|          iceberg|\n",
      "|             hudi|\n",
      "|            delta|\n",
      "|           fabric|\n",
      "|            delta|\n",
      "|      Apache Nifi|\n",
      "|      Apache Beam|\n",
      "|   Azure EventHub|\n",
      "+-----------------+\n",
      "only showing top 20 rows\n",
      "\n"
     ]
    },
    {
     "name": "stderr",
     "output_type": "stream",
     "text": [
      "                                                                                \r"
     ]
    },
    {
     "name": "stdout",
     "output_type": "stream",
     "text": [
      "-------------------------------------------\n",
      "Batch: 1\n",
      "-------------------------------------------\n",
      "-------------------------------------------\n",
      "Batch: 1\n",
      "-------------------------------------------\n",
      "+----------+\n",
      "|     value|\n",
      "+----------+\n",
      "|SQL Server|\n",
      "+----------+\n",
      "\n",
      "+----+--------------------+-------------------+---------+------+--------------------+-------------+\n",
      "| key|               value|              topic|partition|offset|           timestamp|timestampType|\n",
      "+----+--------------------+-------------------+---------+------+--------------------+-------------+\n",
      "|null|[53 51 4C 20 53 6...|News_XYZ_Technology|        0|    21|2023-08-01 11:25:...|            0|\n",
      "+----+--------------------+-------------------+---------+------+--------------------+-------------+\n",
      "\n"
     ]
    },
    {
     "name": "stderr",
     "output_type": "stream",
     "text": [
      "                                                                                \r"
     ]
    },
    {
     "name": "stdout",
     "output_type": "stream",
     "text": [
      "-------------------------------------------\n",
      "Batch: 2\n",
      "-------------------------------------------\n",
      "-------------------------------------------\n",
      "Batch: 2\n",
      "-------------------------------------------\n",
      "+-----+\n",
      "|value|\n",
      "+-----+\n",
      "| HIVE|\n",
      "+-----+\n",
      "\n",
      "+----+-------------+-------------------+---------+------+--------------------+-------------+\n",
      "| key|        value|              topic|partition|offset|           timestamp|timestampType|\n",
      "+----+-------------+-------------------+---------+------+--------------------+-------------+\n",
      "|null|[48 49 56 45]|News_XYZ_Technology|        0|    22|2023-08-01 11:25:...|            0|\n",
      "+----+-------------+-------------------+---------+------+--------------------+-------------+\n",
      "\n",
      "-------------------------------------------\n",
      "Batch: 3\n",
      "-------------------------------------------\n",
      "-------------------------------------------\n",
      "Batch: 3\n",
      "-------------------------------------------\n",
      "+-------+\n",
      "|  value|\n",
      "+-------+\n",
      "|MongoDB|\n",
      "+-------+\n",
      "\n",
      "+----+--------------------+-------------------+---------+------+--------------------+-------------+\n",
      "| key|               value|              topic|partition|offset|           timestamp|timestampType|\n",
      "+----+--------------------+-------------------+---------+------+--------------------+-------------+\n",
      "|null|[4D 6F 6E 67 6F 4...|News_XYZ_Technology|        0|    23|2023-08-01 11:26:...|            0|\n",
      "+----+--------------------+-------------------+---------+------+--------------------+-------------+\n",
      "\n",
      "-------------------------------------------\n",
      "Batch: 4\n",
      "-------------------------------------------\n",
      "+----+----------------+-------------------+---------+------+--------------------+-------------+\n",
      "| key|           value|              topic|partition|offset|           timestamp|timestampType|\n",
      "+----+----------------+-------------------+---------+------+--------------------+-------------+\n",
      "|null|[4D 79 53 51 4C]|News_XYZ_Technology|        0|    24|2023-08-01 11:26:...|            0|\n",
      "+----+----------------+-------------------+---------+------+--------------------+-------------+\n",
      "\n",
      "-------------------------------------------\n",
      "Batch: 4\n",
      "-------------------------------------------\n",
      "+-----+\n",
      "|value|\n",
      "+-----+\n",
      "|MySQL|\n",
      "+-----+\n",
      "\n"
     ]
    }
   ],
   "source": [
    "df.selectExpr(\"cast(value as string)\") \\\n",
    "    .writeStream \\\n",
    "    .format(\"console\") \\\n",
    "    .outputMode(\"append\") \\\n",
    "    .start() "
   ]
  },
  {
   "cell_type": "code",
   "execution_count": null,
   "id": "a1deba01-d2f9-4519-a9de-1b895b9fbbf8",
   "metadata": {},
   "outputs": [
    {
     "name": "stderr",
     "output_type": "stream",
     "text": [
      "23/08/01 11:32:38 WARN ResolveWriteToStream: Temporary checkpoint location created which is deleted normally when the query didn't fail: /tmp/temporary-8a7db8ca-72f7-416c-89f3-8a5f3a93fce0. If it's required to delete it under any circumstances, please set spark.sql.streaming.forceDeleteTempCheckpointLocation to true. Important to know deleting temp checkpoint folder is best effort.\n",
      "23/08/01 11:32:39 WARN ResolveWriteToStream: spark.sql.adaptive.enabled is not supported in streaming DataFrames/Datasets and will be disabled.\n",
      "                                                                                \r"
     ]
    },
    {
     "name": "stdout",
     "output_type": "stream",
     "text": [
      "-------------------------------------------\n",
      "Batch: 0\n",
      "-------------------------------------------\n",
      "+-----------------+\n",
      "|            value|\n",
      "+-----------------+\n",
      "|           Spark |\n",
      "|        Lakehouse|\n",
      "|       Delta Lake|\n",
      "|           OpenAI|\n",
      "|      Dolly Model|\n",
      "|Databrics Events |\n",
      "| Microsoft Fabric|\n",
      "|         Azure DW|\n",
      "|      AWS Kinesis|\n",
      "|       Delta Lake|\n",
      "|      Apache HUdi|\n",
      "|           Apache|\n",
      "|          iceberg|\n",
      "|             hudi|\n",
      "|            delta|\n",
      "|           fabric|\n",
      "|            delta|\n",
      "|      Apache Nifi|\n",
      "|      Apache Beam|\n",
      "|   Azure EventHub|\n",
      "+-----------------+\n",
      "only showing top 20 rows\n",
      "\n"
     ]
    },
    {
     "name": "stderr",
     "output_type": "stream",
     "text": [
      "                                                                                \r"
     ]
    },
    {
     "name": "stdout",
     "output_type": "stream",
     "text": [
      "-------------------------------------------\n",
      "Batch: 1\n",
      "-------------------------------------------\n",
      "+----------+\n",
      "|     value|\n",
      "+----------+\n",
      "|PostgreSQL|\n",
      "+----------+\n",
      "\n",
      "-------------------------------------------\n",
      "Batch: 5\n",
      "-------------------------------------------\n",
      "+----+--------------------+-------------------+---------+------+--------------------+-------------+\n",
      "| key|               value|              topic|partition|offset|           timestamp|timestampType|\n",
      "+----+--------------------+-------------------+---------+------+--------------------+-------------+\n",
      "|null|[50 6F 73 74 67 7...|News_XYZ_Technology|        0|    25|2023-08-01 11:33:...|            0|\n",
      "+----+--------------------+-------------------+---------+------+--------------------+-------------+\n",
      "\n",
      "-------------------------------------------\n",
      "Batch: 5\n",
      "-------------------------------------------\n",
      "+----------+\n",
      "|     value|\n",
      "+----------+\n",
      "|PostgreSQL|\n",
      "+----------+\n",
      "\n"
     ]
    },
    {
     "name": "stderr",
     "output_type": "stream",
     "text": [
      "                                                                                \r"
     ]
    },
    {
     "name": "stdout",
     "output_type": "stream",
     "text": [
      "-------------------------------------------\n",
      "Batch: 2\n",
      "-------------------------------------------\n",
      "-------------------------------------------\n",
      "Batch: 6\n",
      "-------------------------------------------\n",
      "+--------+\n",
      "|   value|\n",
      "+--------+\n",
      "|CosmosDB|\n",
      "+--------+\n",
      "\n",
      "+--------+\n",
      "|   value|\n",
      "+--------+\n",
      "|CosmosDB|\n",
      "+--------+\n",
      "\n"
     ]
    },
    {
     "name": "stderr",
     "output_type": "stream",
     "text": [
      "                                                                                \r"
     ]
    },
    {
     "name": "stdout",
     "output_type": "stream",
     "text": [
      "-------------------------------------------\n",
      "Batch: 6\n",
      "-------------------------------------------\n",
      "+----+--------------------+-------------------+---------+------+--------------------+-------------+\n",
      "| key|               value|              topic|partition|offset|           timestamp|timestampType|\n",
      "+----+--------------------+-------------------+---------+------+--------------------+-------------+\n",
      "|null|[43 6F 73 6D 6F 7...|News_XYZ_Technology|        0|    26|2023-08-01 11:33:...|            0|\n",
      "+----+--------------------+-------------------+---------+------+--------------------+-------------+\n",
      "\n"
     ]
    },
    {
     "name": "stderr",
     "output_type": "stream",
     "text": [
      "                                                                                \r"
     ]
    },
    {
     "name": "stdout",
     "output_type": "stream",
     "text": [
      "-------------------------------------------\n",
      "Batch: 3\n",
      "-------------------------------------------\n",
      "+-----+\n",
      "|value|\n",
      "+-----+\n",
      "|Redis|\n",
      "+-----+\n",
      "\n",
      "-------------------------------------------\n",
      "Batch: 7\n",
      "-------------------------------------------\n",
      "+----+----------------+-------------------+---------+------+--------------------+-------------+\n",
      "| key|           value|              topic|partition|offset|           timestamp|timestampType|\n",
      "+----+----------------+-------------------+---------+------+--------------------+-------------+\n",
      "|null|[52 65 64 69 73]|News_XYZ_Technology|        0|    27|2023-08-01 11:33:...|            0|\n",
      "+----+----------------+-------------------+---------+------+--------------------+-------------+\n",
      "\n",
      "-------------------------------------------\n",
      "Batch: 7\n",
      "-------------------------------------------\n",
      "+-----+\n",
      "|value|\n",
      "+-----+\n",
      "|Redis|\n",
      "+-----+\n",
      "\n"
     ]
    },
    {
     "name": "stderr",
     "output_type": "stream",
     "text": [
      "23/08/01 12:08:18 WARN HeartbeatReceiver: Removing executor driver with no recent heartbeats: 401471 ms exceeds timeout 120000 ms\n",
      "23/08/01 12:08:19 WARN SparkContext: Killing executors is not supported by current scheduler.\n",
      "23/08/01 16:55:17 ERROR AbstractCoordinator: [Consumer clientId=consumer-spark-kafka-source-c822c496-ebc1-4120-89e0-d54ce1aba996--1766797160-driver-0-2, groupId=spark-kafka-source-c822c496-ebc1-4120-89e0-d54ce1aba996--1766797160-driver-0] LeaveGroup request with Generation{generationId=1, memberId='consumer-spark-kafka-source-c822c496-ebc1-4120-89e0-d54ce1aba996--1766797160-driver-0-2-f645cdfa-e701-4c50-9946-8d36b34dc4eb', protocol='range'} failed with error: This is not the correct coordinator.\n",
      "23/08/01 16:55:17 ERROR AbstractCoordinator: [Consumer clientId=consumer-spark-kafka-source-87b4591e-ee0d-479e-a974-37af7e90439a--1154230701-driver-0-5, groupId=spark-kafka-source-87b4591e-ee0d-479e-a974-37af7e90439a--1154230701-driver-0] LeaveGroup request with Generation{generationId=1, memberId='consumer-spark-kafka-source-87b4591e-ee0d-479e-a974-37af7e90439a--1154230701-driver-0-5-30076fd4-0723-4731-aa21-5c71f1971e18', protocol='range'} failed with error: This is not the correct coordinator.\n"
     ]
    }
   ],
   "source": [
    "df.selectExpr(\"cast(value as string)\") \\\n",
    "    .writeStream \\\n",
    "    .format(\"console\") \\\n",
    "    .outputMode(\"append\") \\\n",
    "    .start().awaitTermination()"
   ]
  }
 ],
 "metadata": {
  "kernelspec": {
   "display_name": "Python 3 (ipykernel)",
   "language": "python",
   "name": "python3"
  },
  "language_info": {
   "codemirror_mode": {
    "name": "ipython",
    "version": 3
   },
   "file_extension": ".py",
   "mimetype": "text/x-python",
   "name": "python",
   "nbconvert_exporter": "python",
   "pygments_lexer": "ipython3",
   "version": "3.8.13"
  }
 },
 "nbformat": 4,
 "nbformat_minor": 5
}
